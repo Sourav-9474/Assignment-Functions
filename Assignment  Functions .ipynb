{
 "cells": [
  {
   "cell_type": "code",
   "execution_count": 3,
   "id": "f094de72-e00a-43f2-913c-62d949699327",
   "metadata": {},
   "outputs": [
    {
     "name": "stdout",
     "output_type": "stream",
     "text": [
      "[32.0, 68.0, 86.0, 104.0, 212.0]\n"
     ]
    }
   ],
   "source": [
    "# 9.  Write a Python program that uses `map()` to convert a list of temperatures from Celsius to Fahrenheit.\n",
    "\n",
    "celsius_to_fahrenheit = lambda c: (c * 9/5) + 32\n",
    "\n",
    "# List of temperatures in Celsius\n",
    "celsius_temps = [0, 20, 30, 40, 100]\n",
    "\n",
    "# Convert using map()\n",
    "fahrenheit_temps = list(map(celsius_to_fahrenheit, celsius_temps))\n",
    "\n",
    "# Output result\n",
    "print(fahrenheit_temps)"
   ]
  },
  {
   "cell_type": "code",
   "execution_count": 5,
   "id": "dc5bd9cd-1328-4133-8a49-40c9f239945e",
   "metadata": {},
   "outputs": [
    {
     "name": "stdout",
     "output_type": "stream",
     "text": [
      "[0, 1, 1, 1, 2, 3, 5, 8, 13, 21]\n"
     ]
    }
   ],
   "source": [
    "# 5. Create an iterator class in Python that generates the Fibonacci sequence up to a specified number of terms?\n",
    "class Fibonacci:\n",
    "    def __init__(self, terms):\n",
    "        self.terms = terms\n",
    "        self.a, self.b = 0, 1\n",
    "        self.count = 0\n",
    "\n",
    "    def __iter__(self):\n",
    "        return self\n",
    "\n",
    "    def __next__(self):\n",
    "        if self.count >= self.terms:\n",
    "            raise StopIteration\n",
    "        if self.count == 0:\n",
    "            self.count += 1\n",
    "            return self.a  # First Fibonacci number (0)\n",
    "        elif self.count == 1:\n",
    "            self.count += 1\n",
    "            return self.b  # Second Fibonacci number (1)\n",
    "        else:\n",
    "            self.a, self.b = self.b, self.a + self.b\n",
    "            self.count += 1\n",
    "            return self.a\n",
    "\n",
    "fib = Fibonacci(10)\n",
    "print(list(fib))  "
   ]
  },
  {
   "cell_type": "code",
   "execution_count": 7,
   "id": "824139b7-c817-4b76-8f5a-a32407cd80b9",
   "metadata": {},
   "outputs": [
    {
     "name": "stdout",
     "output_type": "stream",
     "text": [
      "[(34587, 163.8), (98762, 284.0), (77226, 108.85000000000001), (88112, 84.97)]\n"
     ]
    }
   ],
   "source": [
    "#11. Imagine an accounting routine used in a book shop. It works on a list with sublists, which look like this:\n",
    " #Write a Python program, which returns a list with 2-tuples. Each tuple consists of the order number and the \n",
    "#product of the price per item and the quantity. The product should be increased by 10,- € if the value of the \n",
    "#order is smaller than 100,00 €.Write a Python program using lambda and map\n",
    "# List of orders in format [Order Number, Quantity, Price per Item]\n",
    "orders = [\n",
    "    [34587, 4, 40.95], \n",
    "    [98762, 5, 56.80], \n",
    "    [77226, 3, 32.95], \n",
    "    [88112, 3, 24.99]\n",
    "]\n",
    "\n",
    "# Lambda function to calculate final price with surcharge\n",
    "calculate_price = lambda order: (order[0], order[1] * order[2] if order[1] * order[2] >= 100 else order[1] * order[2] + 10)\n",
    "\n",
    "# Use map() to apply the function to all orders\n",
    "final_orders = list(map(calculate_price, orders))\n",
    "\n",
    "# Print the result\n",
    "print(final_orders)"
   ]
  },
  {
   "cell_type": "code",
   "execution_count": null,
   "id": "31eb5bf3-447e-4d9a-915b-4a5d115bb04f",
   "metadata": {},
   "outputs": [],
   "source": []
  }
 ],
 "metadata": {
  "kernelspec": {
   "display_name": "Python 3 (ipykernel)",
   "language": "python",
   "name": "python3"
  },
  "language_info": {
   "codemirror_mode": {
    "name": "ipython",
    "version": 3
   },
   "file_extension": ".py",
   "mimetype": "text/x-python",
   "name": "python",
   "nbconvert_exporter": "python",
   "pygments_lexer": "ipython3",
   "version": "3.12.7"
  }
 },
 "nbformat": 4,
 "nbformat_minor": 5
}
