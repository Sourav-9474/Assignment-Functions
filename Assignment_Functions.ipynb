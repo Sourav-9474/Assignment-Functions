{
  "nbformat": 4,
  "nbformat_minor": 0,
  "metadata": {
    "colab": {
      "provenance": []
    },
    "kernelspec": {
      "name": "python3",
      "display_name": "Python 3"
    },
    "language_info": {
      "name": "python"
    }
  },
  "cells": [
    {
      "cell_type": "markdown",
      "source": [
        "**Assignment Functions**\n"
      ],
      "metadata": {
        "id": "cE5dLPQWogPN"
      }
    },
    {
      "cell_type": "markdown",
      "source": [
        "1. What is the difference between a function and a method in Python?\n",
        "\n",
        "=>   A function is a block of reusable code that performs a specific task. It is defined using the def keyword and can be called independently.\n",
        "\n",
        "A method is a function that is associated with an object and operates on that object. It is called using object.method(). Methods are typically defined within a class.\n",
        "    "
      ],
      "metadata": {
        "id": "NRQbMWRho35U"
      }
    },
    {
      "cell_type": "markdown",
      "source": [
        "2.  Explain the concept of function arguments and parameters in Python.\n",
        "\n",
        "=>    Parameters are variables listed in a function definition.\n",
        "Arguments are the actual values passed to a function when calling it."
      ],
      "metadata": {
        "id": "aIk1Ultrp0Sy"
      }
    },
    {
      "cell_type": "code",
      "source": [
        "def add(a, b):  # 'a' and 'b' are parameters\n",
        "    return a + b\n",
        "print(add(3, 4))  # 3 and 4 are arguments"
      ],
      "metadata": {
        "id": "cW1jO61gqGmU"
      },
      "execution_count": null,
      "outputs": []
    },
    {
      "cell_type": "markdown",
      "source": [
        "3. What are the different ways to define and call a function in Python?\n",
        "\n"
      ],
      "metadata": {
        "id": "lZyT3EaTqKbx"
      }
    },
    {
      "cell_type": "code",
      "source": [
        "# Normal function.\n",
        "def square(x):\n",
        "    return x * x\n",
        "print(square(5))\n",
        "\n",
        "#Lambda function.\n",
        "square = lambda x: x * x\n",
        "print(square(5))\n",
        "\n",
        "# Calling with positional arguments.\n",
        "def greet(name, age):\n",
        "    return f\"Hello {name}, you are {age} years old\"\n",
        "print(greet(\"Sourav\", 25))\n",
        "\n",
        "# Calling with keyword arguments.\n",
        "print(greet(age=25, name=\"Sourav\"))\n",
        "\n",
        "# Calling with default arguments.\n",
        "\n",
        "def greet(name=\"Guest\"):\n",
        "    return f\"Hello, {name}!\"\n",
        "print(greet())  # Uses default\n",
        "print(greet(\"Bob\"))  # Overrides default"
      ],
      "metadata": {
        "colab": {
          "base_uri": "https://localhost:8080/"
        },
        "id": "P47D_CELrE0w",
        "outputId": "85b81716-a13d-4082-d36b-01ac3c5cab79"
      },
      "execution_count": 4,
      "outputs": [
        {
          "output_type": "stream",
          "name": "stdout",
          "text": [
            "25\n",
            "25\n",
            "Hello Sourav, you are 25 years old\n",
            "Hello Sourav, you are 25 years old\n",
            "Hello, Guest!\n",
            "Hello, Bob!\n"
          ]
        }
      ]
    },
    {
      "cell_type": "markdown",
      "source": [
        "4. What is the purpose of the `return` statement in a Python function?\n",
        "\n",
        "=>    The return statement ends a function and sends back a value."
      ],
      "metadata": {
        "id": "YRheqkrjr5n1"
      }
    },
    {
      "cell_type": "code",
      "source": [
        "def add(a, b):\n",
        "    return a + b\n",
        "add(5, 10)  # result = 15"
      ],
      "metadata": {
        "colab": {
          "base_uri": "https://localhost:8080/"
        },
        "id": "89T8RgoxsFxu",
        "outputId": "544bef9f-9edb-4202-b7f1-20add2366545"
      },
      "execution_count": 5,
      "outputs": [
        {
          "output_type": "execute_result",
          "data": {
            "text/plain": [
              "15"
            ]
          },
          "metadata": {},
          "execution_count": 5
        }
      ]
    },
    {
      "cell_type": "markdown",
      "source": [
        "5. What are iterators in Python and how do they differ from iterables?\n",
        "\n",
        "=> itterable: An object that contains a collection of elements and can return an iterator (list, tuple, etc.).\n",
        "\n",
        "Iterator: An object that can be iterated over using next()."
      ],
      "metadata": {
        "id": "m1UbDaAXsTth"
      }
    },
    {
      "cell_type": "code",
      "source": [
        "numbers = [1, 2, 3]  # Iterable\n",
        "it = iter(numbers)  # Iterator\n",
        "print(next(it))  # 1\n",
        "print(next(it))  # 2"
      ],
      "metadata": {
        "colab": {
          "base_uri": "https://localhost:8080/"
        },
        "id": "8Q2bOKPus7yc",
        "outputId": "6ecd3275-97d9-407e-8d11-71a94f9ce12e"
      },
      "execution_count": 6,
      "outputs": [
        {
          "output_type": "stream",
          "name": "stdout",
          "text": [
            "1\n",
            "2\n"
          ]
        }
      ]
    },
    {
      "cell_type": "markdown",
      "source": [
        "6.  Explain the concept of generators in Python and how they are defined?\n",
        "\n",
        "=>  A generator is a function that returns an iterator and yields values one at a time.\n"
      ],
      "metadata": {
        "id": "dNvPACu1tXT3"
      }
    },
    {
      "cell_type": "code",
      "source": [
        "def count():\n",
        "    yield 1\n",
        "    yield 2\n",
        "    yield 3\n",
        "gen = count()\n",
        "print(next(gen))  # 1\n",
        "print(next(gen))  # 2"
      ],
      "metadata": {
        "colab": {
          "base_uri": "https://localhost:8080/"
        },
        "id": "5ZXeTtOntmKY",
        "outputId": "0a35edeb-0add-43ef-9e0a-27487deb4ed6"
      },
      "execution_count": 7,
      "outputs": [
        {
          "output_type": "stream",
          "name": "stdout",
          "text": [
            "1\n",
            "2\n"
          ]
        }
      ]
    },
    {
      "cell_type": "markdown",
      "source": [
        "7.  What are the advantages of using generators over regular functions?\n",
        "\n",
        "=>  Memory-efficient (generate values on the fly).\n",
        "\n",
        "Faster execution (no need to store entire data in memory).\n",
        "\n",
        "Simplifies code for iterators."
      ],
      "metadata": {
        "id": "dgW3VHCdtwxT"
      }
    },
    {
      "cell_type": "markdown",
      "source": [
        "8. What is a lambda function in Python and when is it typically used?\n",
        "\n",
        "=>  An anonymous function defined using lambda.\n",
        "\n",
        "Used in map(), filter(), and sorted().\n"
      ],
      "metadata": {
        "id": "W74PrVd2t_P3"
      }
    },
    {
      "cell_type": "code",
      "source": [
        "square = lambda x: x * x\n",
        "print(square(4))  # Output: 16"
      ],
      "metadata": {
        "colab": {
          "base_uri": "https://localhost:8080/"
        },
        "id": "KP29T70vuOsL",
        "outputId": "d42f0d53-ad49-4d3f-d6e7-d960aa16c624"
      },
      "execution_count": 8,
      "outputs": [
        {
          "output_type": "stream",
          "name": "stdout",
          "text": [
            "16\n"
          ]
        }
      ]
    },
    {
      "cell_type": "markdown",
      "source": [
        "9.  Explain the purpose and usage of the `map()` function in Python.\n",
        "\n",
        "=> Applies a function to all items in an iterable.\n"
      ],
      "metadata": {
        "id": "-4TkVaN0uT9J"
      }
    },
    {
      "cell_type": "code",
      "source": [
        "nums = [1, 2, 3, 4]\n",
        "squares = list(map(lambda x: x * x, nums))\n",
        "print(squares)  # Output: [1, 4, 9, 16]"
      ],
      "metadata": {
        "colab": {
          "base_uri": "https://localhost:8080/"
        },
        "id": "_hZtPN8Huj0n",
        "outputId": "4585b5b8-b34a-4e28-dfe9-1008e50bccd2"
      },
      "execution_count": 9,
      "outputs": [
        {
          "output_type": "stream",
          "name": "stdout",
          "text": [
            "[1, 4, 9, 16]\n"
          ]
        }
      ]
    },
    {
      "cell_type": "markdown",
      "source": [
        "10. What is the difference between `map()`, `reduce()`, and `filter()` functions in Python?\n",
        "\n",
        "=>  map(): Applies a function to all elements.\n",
        "\n",
        "filter(): Filters elements based on a condition.\n",
        "\n",
        "reduce(): Reduces a sequence to a single value.\n",
        "\n"
      ],
      "metadata": {
        "id": "6yex-kJqvUBl"
      }
    },
    {
      "cell_type": "code",
      "source": [
        "from functools import reduce\n",
        "nums = [1, 2, 3, 4]\n",
        "\n",
        "print(list(map(lambda x: x * x, nums)))  # [1, 4, 9, 16]\n",
        "print(list(filter(lambda x: x % 2 == 0, nums)))  # [2, 4]\n",
        "print(reduce(lambda x, y: x + y, nums))  # 10"
      ],
      "metadata": {
        "colab": {
          "base_uri": "https://localhost:8080/"
        },
        "id": "TE_LnhQqvsFt",
        "outputId": "083651e3-f9c5-426a-a4ff-974cac295616"
      },
      "execution_count": 12,
      "outputs": [
        {
          "output_type": "stream",
          "name": "stdout",
          "text": [
            "[1, 4, 9, 16]\n",
            "[2, 4]\n",
            "10\n"
          ]
        }
      ]
    },
    {
      "cell_type": "markdown",
      "source": [
        "11. Using pen & Paper write the internal mechanism for sum operation using  reduce function on this given list:[47,11,42,13];\n",
        "\n",
        "=>  reduce(lambda x, y: x + y, [47, 11, 42, 13])"
      ],
      "metadata": {
        "id": "OWOkcJAcwNLU"
      }
    },
    {
      "cell_type": "code",
      "source": [
        "# Step 1: 47 + 11 = 58\n",
        "# Step 2: 58 + 42 = 100\n",
        "# Step 3: 100 + 13 = 113\n",
        "from functools import reduce\n",
        "num=[47,11,42,13]\n",
        "print(reduce(lambda x,y:x+y,num))"
      ],
      "metadata": {
        "colab": {
          "base_uri": "https://localhost:8080/"
        },
        "id": "6iKvVUU2xjYU",
        "outputId": "9115a263-abed-4bd0-b205-159e8884ebaf"
      },
      "execution_count": 16,
      "outputs": [
        {
          "output_type": "stream",
          "name": "stdout",
          "text": [
            "113\n"
          ]
        }
      ]
    },
    {
      "cell_type": "markdown",
      "source": [
        "**Practical Questions**"
      ],
      "metadata": {
        "id": "vvvGJxhyyu9G"
      }
    },
    {
      "cell_type": "code",
      "source": [
        "# 1.  Write a Python function that takes a list of numbers as input and returns the sum of all even numbers in the list?\n",
        "\n",
        "my_list1=[1,2,4,3,6,5,8,7]\n",
        "def sum_even(l):\n",
        "  return sum(i for i in l if i%2==0)\n",
        "\n",
        "print(sum_even(my_list1))"
      ],
      "metadata": {
        "colab": {
          "base_uri": "https://localhost:8080/"
        },
        "id": "jNy6PFBry4X3",
        "outputId": "cdb00105-16fc-42d5-a5e6-4c588132228f"
      },
      "execution_count": 55,
      "outputs": [
        {
          "output_type": "stream",
          "name": "stdout",
          "text": [
            "20\n"
          ]
        }
      ]
    },
    {
      "cell_type": "code",
      "source": [
        "# 2.  Create a Python function that accepts a string and returns the reverse of that string?\n",
        "def return_str(s):\n",
        "  return s[::-1]\n",
        "\n",
        "text=\"hellow\"\n",
        "print(return_str(text))\n"
      ],
      "metadata": {
        "colab": {
          "base_uri": "https://localhost:8080/"
        },
        "id": "RwCvj6GL0tko",
        "outputId": "04206134-7eac-4d04-b059-eb1d328008af"
      },
      "execution_count": 24,
      "outputs": [
        {
          "output_type": "stream",
          "name": "stdout",
          "text": [
            "wolleh\n"
          ]
        }
      ]
    },
    {
      "cell_type": "code",
      "source": [
        "# 3.  Implement a Python function that takes a list of integers and returns a new list containing the squares of each number\n",
        "def Square_list(numbers):\n",
        "  return[i**2 for i in numbers]\n",
        "my_list=[1,2,3,4,5,6]\n",
        "print(Square_list(my_list))"
      ],
      "metadata": {
        "colab": {
          "base_uri": "https://localhost:8080/"
        },
        "id": "GWzNIL_A1hBT",
        "outputId": "846ba2e2-3837-40e7-b3d0-dce53fae7359"
      },
      "execution_count": 54,
      "outputs": [
        {
          "output_type": "stream",
          "name": "stdout",
          "text": [
            "[1, 4, 9, 16, 25, 36]\n"
          ]
        }
      ]
    },
    {
      "cell_type": "code",
      "source": [
        "# 4. Write a Python function that checks if a given number is prime or not from 1 to 200?\n",
        "def is_prime(n):\n",
        "    if n < 2:\n",
        "        return False\n",
        "    for i in range(2, int(n ** 0.5) + 1):\n",
        "        if n % i == 0:\n",
        "            return False\n",
        "    return True\n",
        "\n",
        "# Generate prime numbers from 1 to 200\n",
        "primes = [n for n in range(1, 201) if is_prime(n)]\n",
        "\n",
        "# Example usage\n",
        "print(is_prime(17))  # Output: True\n",
        "print(is_prime(18))  # Output: False\n",
        "print(primes)  # Output: List of prime numbers from 1 to 200"
      ],
      "metadata": {
        "colab": {
          "base_uri": "https://localhost:8080/"
        },
        "id": "ZuwNRf1q1YQs",
        "outputId": "c2f3c56d-30bd-46d5-a7e0-614999b51979"
      },
      "execution_count": 45,
      "outputs": [
        {
          "output_type": "stream",
          "name": "stdout",
          "text": [
            "True\n",
            "False\n",
            "[2, 3, 5, 7, 11, 13, 17, 19, 23, 29, 31, 37, 41, 43, 47, 53, 59, 61, 67, 71, 73, 79, 83, 89, 97, 101, 103, 107, 109, 113, 127, 131, 137, 139, 149, 151, 157, 163, 167, 173, 179, 181, 191, 193, 197, 199]\n"
          ]
        }
      ]
    },
    {
      "cell_type": "code",
      "source": [
        "#6.  Write a generator function in Python that yields the powers of 2 up to a given exponent.\n",
        "def power_of_2(exponent):\n",
        "    for i in range(exponent + 1):\n",
        "        yield 2 ** i\n",
        "\n",
        "# Example usage\n",
        "for power in power_of_2(5):\n",
        "    print(power)"
      ],
      "metadata": {
        "colab": {
          "base_uri": "https://localhost:8080/"
        },
        "id": "6MB-U2M5_qtG",
        "outputId": "bf75f5f7-6f66-4977-a9a1-dd84163d2bf7"
      },
      "execution_count": 59,
      "outputs": [
        {
          "output_type": "stream",
          "name": "stdout",
          "text": [
            "1\n",
            "2\n",
            "4\n",
            "8\n",
            "16\n",
            "32\n"
          ]
        }
      ]
    },
    {
      "cell_type": "code",
      "source": [
        " # 7. Implement a generator function that reads a file line by line and yields each line as a string.\n",
        " def read_file_lines(filename, keyword=None):\n",
        "    try:\n",
        "        with open(filename, 'r') as file:\n",
        "            for line in file:\n",
        "                line = line.strip()  # Remove leading/trailing spaces and newlines\n",
        "                if line:  # Skip empty lines\n",
        "                    if keyword is None or keyword in line:  # Filter by keyword if provided\n",
        "                        yield line\n",
        "    except FileNotFoundError:\n",
        "        print(f\"Error: File '{filename}' not found.\")\n",
        "\n",
        "# Example usage\n",
        "for line in read_file_lines(\"example.txt\", keyword=\"Python\"):\n",
        "    print(line)"
      ],
      "metadata": {
        "colab": {
          "base_uri": "https://localhost:8080/"
        },
        "id": "gm3IxmaOAGud",
        "outputId": "c07ceaf2-fab3-43d2-a3c0-2c96dcc3f599"
      },
      "execution_count": 65,
      "outputs": [
        {
          "output_type": "stream",
          "name": "stdout",
          "text": [
            "Error: File 'example.txt' not found.\n"
          ]
        }
      ]
    },
    {
      "cell_type": "code",
      "source": [
        "# 8.  Use a lambda function in Python to sort a list of tuples based on the second element of each tuple.\n",
        "tuples_list = [(1, 3), (2, 1), (4, 5), (3, 2)]\n",
        "\n",
        "# Sorting based on the second element using lambda\n",
        "sorted_list = sorted(tuples_list, key=lambda x: x[1])\n",
        "\n",
        "# Output result\n",
        "print(sorted_list)"
      ],
      "metadata": {
        "colab": {
          "base_uri": "https://localhost:8080/"
        },
        "id": "Hw5oMhM4Cl2E",
        "outputId": "9f91fc9b-149b-4a65-ce5d-b80576db6c2d"
      },
      "execution_count": 68,
      "outputs": [
        {
          "output_type": "stream",
          "name": "stdout",
          "text": [
            "[(2, 1), (3, 2), (1, 3), (4, 5)]\n"
          ]
        }
      ]
    },
    {
      "cell_type": "code",
      "source": [
        "# 10  Create a Python program that uses `filter()` to remove all the vowels from a given string.\n",
        "# Function to check if a character is a vowel\n",
        "is_not_vowel = lambda char: char.lower() not in 'aeiou'\n",
        "\n",
        "# Input string\n",
        "text = \"Hello, how are you?\"\n",
        "\n",
        "# Use filter() to remove vowels\n",
        "filtered_text = \"\".join(filter(is_not_vowel, text))\n",
        "\n",
        "# Output result\n",
        "print(filtered_text)"
      ],
      "metadata": {
        "colab": {
          "base_uri": "https://localhost:8080/"
        },
        "id": "dvCPoH1AGQJy",
        "outputId": "080c0a08-d6df-4c70-d349-ca6793e830b6"
      },
      "execution_count": 74,
      "outputs": [
        {
          "output_type": "stream",
          "name": "stdout",
          "text": [
            "Hll, hw r y?\n"
          ]
        }
      ]
    }
  ]
}